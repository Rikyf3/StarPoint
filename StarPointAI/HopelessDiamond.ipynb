{
 "cells": [
  {
   "cell_type": "code",
   "execution_count": null,
   "id": "758d3a38",
   "metadata": {
    "scrolled": false
   },
   "outputs": [],
   "source": [
    "!mkdir gif"
   ]
  },
  {
   "cell_type": "code",
   "execution_count": null,
   "id": "8d4eb256",
   "metadata": {},
   "outputs": [],
   "source": [
    "import config"
   ]
  },
  {
   "cell_type": "code",
   "execution_count": null,
   "id": "49446906",
   "metadata": {
    "scrolled": true
   },
   "outputs": [],
   "source": [
    "!pip install --upgrade pip\n",
    "!pip install numpy\n",
    "config.CLOUD = False #False: macos, True:windows/linux"
   ]
  },
  {
   "cell_type": "code",
   "execution_count": null,
   "id": "cb14ef22",
   "metadata": {},
   "outputs": [],
   "source": [
    "import numpy as np\n",
    "import tensorflow as tf"
   ]
  },
  {
   "cell_type": "code",
   "execution_count": null,
   "id": "6e0fdeb2",
   "metadata": {},
   "outputs": [],
   "source": [
    "class RenderEngine(tf.keras.layers.Layer):\n",
    "    def __init__(self, patch_size, **kwargs):\n",
    "        super(RenderEngine, self).__init__(**kwargs)\n",
    "        self.patch_size = patch_size\n",
    "    \n",
    "    def build(self, input_shape):\n",
    "        super(RenderEngine, self).build(input_shape)\n",
    "    \n",
    "    def screen(self, image):\n",
    "        return 1 - tf.reduce_prod(1 - image, axis=0)\n",
    "    \n",
    "    def gaussian(self, params):\n",
    "        coords = tf.range(self.patch_size, dtype=tf.float32) + 0.5\n",
    "        coords = tf.meshgrid(coords, coords)\n",
    "        \n",
    "        x_mean = params[0] + params[3] * (config.DOWNSAMPLE - 1)\n",
    "        y_mean = params[1] + params[4] * (config.DOWNSAMPLE - 1)\n",
    "        amp = params[2]\n",
    "        x_std = params[5] * config.MAX_STD\n",
    "        y_std = params[6] * config.MAX_STD\n",
    "        theta = (params[7] - 0.5) * np.pi\n",
    "        \n",
    "        cos_x = tf.math.divide_no_nan(tf.math.square(tf.math.cos(theta)), 2*x_std)\n",
    "        cos_y = tf.math.divide_no_nan(tf.math.square(tf.math.cos(theta)), 2*y_std)\n",
    "        sin_x = tf.math.divide_no_nan(tf.math.square(tf.math.sin(theta)), 2*x_std)\n",
    "        sin_y = tf.math.divide_no_nan(tf.math.square(tf.math.sin(theta)), 2*y_std)\n",
    "        sin_2x = tf.math.divide_no_nan(tf.math.sin(2*theta), 2*x_std)\n",
    "        sin_2y = tf.math.divide_no_nan(tf.math.sin(2*theta), 2*y_std)\n",
    "        \n",
    "        a = cos_x + sin_y\n",
    "        b = sin_2x - sin_2y\n",
    "        c = sin_x + cos_y\n",
    "        img = amp * tf.math.exp(-a*tf.math.square(coords[0] - x_mean) -b*(coords[0]-x_mean)*(coords[1]-y_mean) -c*tf.math.square(coords[1]-y_mean))\n",
    "        img = tf.clip_by_value(img, 0.0, 1.0)\n",
    "        \n",
    "        return tf.expand_dims(img, axis=-1)\n",
    "    \n",
    "    def call_per_batch(self, x):\n",
    "        coords = tf.range(self.patch_size, delta=config.DOWNSAMPLE, dtype=tf.float32) + 0.5\n",
    "        coords = tf.meshgrid(coords, coords)\n",
    "        coords = tf.transpose(coords, perm=[1, 2, 0])\n",
    "        \n",
    "        x = tf.concat([coords, x], axis=-1)\n",
    "        x = tf.reshape(x, [-1, config.NUM_OF_PARAMS+2])\n",
    "        \n",
    "        if config.CLOUD:\n",
    "            return self.screen(tf.vectorized_map(self.gaussian, x))\n",
    "        return self.screen(tf.map_fn(self.gaussian, x))\n",
    "    \n",
    "    def call(self, x):\n",
    "        if config.CLOUD:\n",
    "            return tf.vectorized_map(self.call_per_batch, x)\n",
    "        return tf.map_fn(self.call_per_batch, x)"
   ]
  },
  {
   "cell_type": "code",
   "execution_count": null,
   "id": "78741a49",
   "metadata": {},
   "outputs": [],
   "source": [
    "def create_batch():\n",
    "    outputs = []\n",
    "    engine = RenderEngine(config.PATCH_SIZE)\n",
    "    \n",
    "    for _ in range(config.BATCH_SIZE):\n",
    "        param = np.zeros([config.PATCH_SIZE//config.DOWNSAMPLE, config.PATCH_SIZE//config.DOWNSAMPLE, config.NUM_OF_PARAMS])\n",
    "        \n",
    "        num_of_stars = np.random.randint(0, 10)\n",
    "        config.TOT_NUM_STARS += num_of_stars\n",
    "        \n",
    "        for _ in range(num_of_stars):\n",
    "            i = np.random.randint(low=0, high=config.PATCH_SIZE//config.DOWNSAMPLE)\n",
    "            j = np.random.randint(low=0, high=config.PATCH_SIZE//config.DOWNSAMPLE)\n",
    "            \n",
    "            amp = np.random.uniform(low=0.05, high=1.0)\n",
    "            x_fine = np.random.uniform(low=0.0, high=1.0)\n",
    "            y_fine = np.random.uniform(low=0.0, high=1.0)\n",
    "            if np.random.choice([True, False]):\n",
    "                x_std = np.random.uniform(low=0.05, high=1.0)\n",
    "                y_std = np.random.uniform(low=np.clip(x_std-0.4, 0, 1), high=np.clip(x_std+0.4, 0, 1))\n",
    "            else:\n",
    "                y_std = np.random.uniform(low=0.05, high=1.0)\n",
    "                x_std = np.random.uniform(low=np.clip(y_std-0.4, 0, 1), high=np.clip(y_std+0.4, 0, 1))\n",
    "            theta = np.random.uniform(low=0.0, high=1.0)\n",
    "            \n",
    "            param[i, j] = [amp, x_fine, y_fine, x_std, y_std, theta]\n",
    "        \n",
    "        outputs.append(param)\n",
    "    \n",
    "    outputs = np.array(outputs)\n",
    "    inputs = engine(outputs)\n",
    "    #inputs = inputs + np.random.normal(loc=0.0, scale=0.04, size=inputs.shape)\n",
    "    return inputs, outputs"
   ]
  },
  {
   "cell_type": "code",
   "execution_count": null,
   "id": "9e4400a9",
   "metadata": {},
   "outputs": [],
   "source": [
    "### Output visualizerat\n",
    "def merge_channels(render, original):\n",
    "    zero = np.zeros([config.PATCH_SIZE, config.PATCH_SIZE, 1])\n",
    "    return np.concatenate([zero, original, render], axis=-1)\n",
    "\n",
    "def concatenate_channels(render, original):\n",
    "    return np.concatenate([render, original], axis=1)"
   ]
  },
  {
   "cell_type": "code",
   "execution_count": null,
   "id": "b0f6e1bf",
   "metadata": {},
   "outputs": [],
   "source": [
    "### Neural Network\n",
    "def build_model():\n",
    "    inputs = tf.keras.layers.Input(shape=[config.PATCH_SIZE, config.PATCH_SIZE, 1])\n",
    "    \n",
    "    conv = tf.keras.layers.Conv2D(64, [7,7], strides=2, padding='same')(inputs)\n",
    "    conv = tf.keras.layers.BatchNormalization()(conv)\n",
    "    conv = tf.nn.leaky_relu(conv)\n",
    "    \n",
    "    conv = tf.keras.layers.Conv2D(128, [5,5], strides=2, padding='same')(conv)\n",
    "    conv = tf.keras.layers.BatchNormalization()(conv)\n",
    "    conv = tf.nn.leaky_relu(conv)\n",
    "    \n",
    "    conv = tf.keras.layers.Conv2D(256, [3,3], strides=1, padding='same')(conv)\n",
    "    conv = tf.keras.layers.BatchNormalization()(conv)\n",
    "    conv = tf.nn.leaky_relu(conv)\n",
    "    \n",
    "    conv = tf.keras.layers.Conv2D(512, [3,3], strides=2, padding='same')(conv)\n",
    "    conv = tf.keras.layers.BatchNormalization()(conv)\n",
    "    conv = tf.nn.leaky_relu(conv)\n",
    "    \n",
    "    conv = tf.keras.layers.Conv2D(config.NUM_OF_PARAMS, [1,1], strides=1, padding='same')(conv)\n",
    "    conv = tf.nn.sigmoid(conv)\n",
    "    \n",
    "    model = tf.keras.Model(inputs=inputs, outputs=conv)\n",
    "    return model"
   ]
  },
  {
   "cell_type": "code",
   "execution_count": null,
   "id": "51628826",
   "metadata": {
    "scrolled": true
   },
   "outputs": [],
   "source": [
    "### Neural Net definition\n",
    "opt = tf.keras.optimizers.RMSprop(learning_rate=5e-4)\n",
    "#opt = tf.keras.optimizers.Adam(learning_rate=1e-3)\n",
    "model = build_model()"
   ]
  },
  {
   "cell_type": "code",
   "execution_count": null,
   "id": "60ef6522",
   "metadata": {},
   "outputs": [],
   "source": [
    "!rm ./gif/log.txt\n",
    "!touch ./gif/log.txt\n",
    "config.TOT_NUM_STARS = 0"
   ]
  },
  {
   "cell_type": "code",
   "execution_count": null,
   "id": "e45c1f2f",
   "metadata": {},
   "outputs": [],
   "source": [
    "### Training loop\n",
    "loss_mean = []\n",
    "last_check_print = 0\n",
    "\n",
    "while config.TOT_NUM_STARS < config.ITERATIONS:\n",
    "    input_img, input_pos = create_batch()\n",
    "    with tf.GradientTape() as tape:\n",
    "        output_pos = model(input_img)\n",
    "        \n",
    "        loss_model = tf.math.reduce_mean(tf.math.square(output_pos - input_pos))\n",
    "        \n",
    "    grads = tape.gradient(loss_model, model.trainable_weights)\n",
    "    opt.apply_gradients(zip(grads, model.trainable_weights))\n",
    "    \n",
    "    loss_mean.append(loss_model)\n",
    "    \n",
    "    if np.floor(config.TOT_NUM_STARS / 1000) > last_check_print:\n",
    "        status = '[Num of stars trained : {}; Loss: {:.7f}]'.format(config.TOT_NUM_STARS, np.mean(loss_mean))\n",
    "        tf.print(status)\n",
    "        \n",
    "        with open('./gif/log.txt', 'a') as log:\n",
    "            log.write(status + '\\n')\n",
    "        \n",
    "        output_img = RenderEngine(config.PATCH_SIZE)(np.expand_dims(output_pos[0], axis=0))\n",
    "        img_in = input_img[0] * 255.0\n",
    "        \n",
    "        out_img = concatenate_channels(output_img[0] * 255.0, img_in)\n",
    "        out_png = tf.io.encode_png(tf.cast(out_img, tf.uint8))\n",
    "        tf.io.write_file('./gif/out_img.png', out_png)\n",
    "        \n",
    "        loss_mean.clear()\n",
    "        last_check_print = np.floor(config.TOT_NUM_STARS / 1000)\n",
    "\n",
    "log.close()"
   ]
  },
  {
   "cell_type": "code",
   "execution_count": null,
   "id": "05d8ca05",
   "metadata": {},
   "outputs": [],
   "source": [
    "model.save('hopeless_diamond.h5')"
   ]
  },
  {
   "cell_type": "code",
   "execution_count": null,
   "id": "c3527675",
   "metadata": {},
   "outputs": [],
   "source": []
  },
  {
   "cell_type": "code",
   "execution_count": null,
   "id": "6e1fd28d",
   "metadata": {},
   "outputs": [],
   "source": [
    "import cv2 as cv\n",
    "import numpy as np\n",
    "import tensorflow as tf\n",
    "import config\n",
    "import astropy.modeling"
   ]
  },
  {
   "cell_type": "code",
   "execution_count": null,
   "id": "9b35bd49",
   "metadata": {},
   "outputs": [],
   "source": [
    "image = cv.imread('star_mask.png')\n",
    "image = image / 255.0"
   ]
  },
  {
   "cell_type": "code",
   "execution_count": null,
   "id": "fd6062f9",
   "metadata": {},
   "outputs": [],
   "source": [
    "recon = np.zeros(image.shape)\n",
    "\n",
    "for x in range(0, image.shape[1], config.PATCH_SIZE):\n",
    "    for y in range(0, image.shape[0], config.PATCH_SIZE):\n",
    "        patch = image[y:y+config.PATCH_SIZE, x:x+config.PATCH_SIZE]\n",
    "        patch = np.expand_dims(patch, axis=0)\n",
    "        \n",
    "        if patch.shape != (1, config.PATCH_SIZE, config.PATCH_SIZE, image.shape[-1]):\n",
    "            if patch.shape[1] != config.PATCH_SIZE and patch.shape[2] == config.PATCH_SIZE:\n",
    "                patch = np.concatenate([patch, np.zeros([1, config.PATCH_SIZE-patch.shape[1], config.PATCH_SIZE, image.shape[-1]])], axis=1)\n",
    "            elif patch.shape[2] != config.PATCH_SIZE and patch.shape[1] == config.PATCH_SIZE:\n",
    "                patch = np.concatenate([patch, np.zeros([1, config.PATCH_SIZE, config.PATCH_SIZE-patch.shape[2], image.shape[-1]])], axis=2)\n",
    "            else:\n",
    "                continue\n",
    "            \n",
    "        params_matrix = np.zeros([image.shape[-1], config.PATCH_SIZE//config.DOWNSAMPLE, config.PATCH_SIZE//config.DOWNSAMPLE, 8])\n",
    "        \n",
    "        for channel in range(image.shape[-1]):\n",
    "            star_params = model(np.expand_dims(patch[:,:,:,channel], axis=-1))[0]\n",
    "            coords = np.arange(0, config.PATCH_SIZE, config.DOWNSAMPLE) + 0.5\n",
    "            coords = np.meshgrid(coords, coords)\n",
    "            coords = tf.transpose(coords, perm=[1, 2, 0]).numpy()\n",
    "            star_params = np.concatenate([coords, star_params], axis=-1)\n",
    "            params_matrix[channel, :, :, :] = star_params\n",
    "        \n",
    "        for _x in range(params_matrix.shape[2]):\n",
    "            for _y in range(params_matrix.shape[1]):\n",
    "                for channel in range(params_matrix.shape[0]):\n",
    "                    x_mean = y + params_matrix[channel, _x, _y, 1]\n",
    "                    y_mean = x + params_matrix[channel, _x, _y, 0]\n",
    "                    x_fine = np.mean(params_matrix[:, _x, _y, 4]) * config.DOWNSAMPLE\n",
    "                    y_fine = np.mean(params_matrix[:, _x, _y, 3]) * config.DOWNSAMPLE\n",
    "                    amplitude = np.mean(params_matrix[:, _x, _y, 2])\n",
    "                    x_std = params_matrix[channel, _x, _y, 5] * 14 * 0.9\n",
    "                    y_std = params_matrix[channel, _x, _y, 6] * 14 * 0.9\n",
    "                    theta = (params_matrix[channel, _x, _y, 7] - 0.5) * np.pi\n",
    "                    \n",
    "                    gauss = astropy.modeling.models.Gaussian2D(\n",
    "                            amplitude=amplitude,\n",
    "                            x_mean=y_mean+y_fine,\n",
    "                            y_mean=x_mean+x_fine,\n",
    "                            x_stddev=np.mean([x_std, y_std]),\n",
    "                            y_stddev=np.mean([x_std, y_std]),\n",
    "                            theta=0)\n",
    "                    try:\n",
    "                        gauss.render(recon[:,:,channel])\n",
    "                    except:\n",
    "                        continue"
   ]
  },
  {
   "cell_type": "code",
   "execution_count": null,
   "id": "cad0dc95",
   "metadata": {},
   "outputs": [],
   "source": [
    "cv.imwrite('rec.png', recon*255.0)"
   ]
  },
  {
   "cell_type": "code",
   "execution_count": null,
   "id": "2a25b6e4",
   "metadata": {},
   "outputs": [],
   "source": []
  }
 ],
 "metadata": {
  "kernelspec": {
   "display_name": "Python 3 (ipykernel)",
   "language": "python",
   "name": "python3"
  },
  "language_info": {
   "codemirror_mode": {
    "name": "ipython",
    "version": 3
   },
   "file_extension": ".py",
   "mimetype": "text/x-python",
   "name": "python",
   "nbconvert_exporter": "python",
   "pygments_lexer": "ipython3",
   "version": "3.9.13"
  }
 },
 "nbformat": 4,
 "nbformat_minor": 5
}
